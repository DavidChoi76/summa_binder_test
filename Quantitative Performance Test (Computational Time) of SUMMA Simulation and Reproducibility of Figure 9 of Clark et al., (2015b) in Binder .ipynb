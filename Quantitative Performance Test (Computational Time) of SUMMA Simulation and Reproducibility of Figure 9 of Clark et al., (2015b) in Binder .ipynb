{
 "cells": [
  {
   "cell_type": "markdown",
   "metadata": {},
   "source": [
    "## Quantitative Performance Test (Computational Time) of SUMMA Simulation and Reproducibility of Figure 9 of Clark et al., (2015b) in Binder\n",
    "\n",
    "#### Young-Don Choi<sup>a</sup>, Jonathan L. Goodall<sup>a</sup>, Jared Nguyen<sup>b</sup>, Raza Ahmad<sup>c</sup>, Tanu Malik<sup>c</sup>, Zhiyu Li<sup>d</sup>, Anthony M. Castronova<sup>e</sup>, Shaowen Wang<sup>d</sup>,  David G. Tarboton<sup>f</sup>\n",
    "\n",
    "<sup>a</sup>Department of Engineering Systems & Environment, University of Virginia, Charlottesville, VA, USA (yc5ef@virginia.edu, goodall@virginia.edu, jtn2km@virginia.edu)\n",
    "<sup>b</sup>Department of Computer Science, University of Virginia, Charlottesville, Virginia, USA\n",
    "<sup>c</sup>School of Computing, DePaul University, Chicago, IL, USA (raza.ahmad@depaul.edu, tmalik1@depaul.edu)\n",
    "<sup>d</sup>Department of Geography & Geographic Information Science, University of Illinois at Urbana-Champaign, IL, USA\n",
    "<sup>e</sup>Consortium of Universities for the Advancement of Hydrological Science, Inc, 150 Cambridge Park Drive, Cambridge, MA 02140, USA (acastronova@cuahsi.org)\n",
    "<sup>f</sup>Department of Civil and Environmental Engineering, Utah Water Research Laboratory, Utah State University, Logan, Utah, USA (dtarb@usu.edu)"
   ]
  },
  {
   "cell_type": "markdown",
   "metadata": {},
   "source": [
    "# 1. Introduction"
   ]
  },
  {
   "cell_type": "markdown",
   "metadata": {},
   "source": [
    "## 1.1 Research Abstract"
   ]
  },
  {
   "cell_type": "markdown",
   "metadata": {},
   "source": [
    "There are a growing number of approaches for overcoming the reproducibility crisis facing computational science fields. The objective of this research is to compare eleven of these approaches and suggest best practices and guidance for which approach is most appropriate to achieve modeling objectives, specifically for simulating hydrologic and environmental systems. We first present the eleven approaches that each use a different combination of software tools for achieving reproducibility. We then measure quantitative performance (complexity, size of reproducible artifacts, and computational time) and qualitative performance using the SUMMA hydrologic model as a use case study for testing each approach. Based on the results, we recommend reproducible approaches best suited for achieving different modeling objectives. These recommendations aim to guide modelers in their efforts to create and share computational artifacts in a reproducible manner, depending on their research needs and purposes."
   ]
  },
  {
   "cell_type": "markdown",
   "metadata": {},
   "source": [
    "## 1.2 MyBinder"
   ]
  },
  {
   "cell_type": "markdown",
   "metadata": {},
   "source": [
    "MyBinder is an online service for building and sharing reproducible and interactive computational environments from online repositories. Under the hood, it is a federation of BinderHub deployments that are maintained by the Binder community. It serves as both a public service and a demonstration of the BinderHub technology, though it is by no means the only BinderHub in existence. If you’re interested in deploying your own BinderHub for your own uses, please see the BinderHub documentation and don’t hesitate to reach out to the Binder community."
   ]
  },
  {
   "cell_type": "markdown",
   "metadata": {},
   "source": [
    "# 2. Application"
   ]
  },
  {
   "cell_type": "markdown",
   "metadata": {},
   "source": [
    "## 2.1 Study Area"
   ]
  },
  {
   "cell_type": "markdown",
   "metadata": {},
   "source": [
    "We used a case study of Clark et al. (2015b) which describes a set of modeling experiments exploring various hydrologic modeling scenarios using SUMMA. The study area for these modeling experiments is the Reynolds Mountain East Area (A=32.7km2) in the Reynolds Creek Experimental Watershed in Idaho, USA\n",
    "\n",
    "Here is the link of Clark et al. (2015b)(SUMMA 2nd Paper): https://agupubs.onlinelibrary.wiley.com/doi/full/10.1002/2015WR017200"
   ]
  },
  {
   "cell_type": "markdown",
   "metadata": {},
   "source": [
    "<img src=\"study_area.jpg\" width=\"1000\">"
   ]
  },
  {
   "cell_type": "markdown",
   "metadata": {},
   "source": [
    "Figure 1. Reynolds Mountain East Area in the Reynolds Creek Experimental Watershed"
   ]
  },
  {
   "cell_type": "markdown",
   "metadata": {},
   "source": [
    "## 2.2 Example Application: A Hydrologic Model Software (SUMMA:The Structure for Unifying Multiple Modeling Alternative) and Python model API (pySUMMA)"
   ]
  },
  {
   "cell_type": "markdown",
   "metadata": {},
   "source": [
    "The Structure for Unifying Multiple Modeling Alternative (SUMMA) was developed to enable the controlled and systematic evaluation of multiple model representations of hydrologic processes and scaling behavior (Clark et al., 2015a).  SUMMA has several beneficial capabilities that assist with a unifying framework. These include 1) the theoretical range of the SUMMA model, 2) the flexible hierarchical spatial structure, and 3) the application of different physical processes."
   ]
  },
  {
   "cell_type": "markdown",
   "metadata": {},
   "source": [
    "<img src=\"summa.png\" width=\"600\">"
   ]
  },
  {
   "cell_type": "markdown",
   "metadata": {},
   "source": [
    "Figure 2. Conceptual diagram to illustrate the SUMMA framework to describe the application of multiple process parameterizations with conservation equations and a numerical solver"
   ]
  },
  {
   "cell_type": "markdown",
   "metadata": {},
   "source": [
    "## 2.3 Setting of Simulation Scenarios and Performance Test"
   ]
  },
  {
   "cell_type": "markdown",
   "metadata": {},
   "source": [
    "### 2.3.1 SUMMA Case Studies for Performance Test"
   ]
  },
  {
   "cell_type": "markdown",
   "metadata": {},
   "source": [
    "In this study, we simulate 2 cases studies for performance test in Local Computer and reproduce Figure 9 from the cases studies. "
   ]
  },
  {
   "cell_type": "markdown",
   "metadata": {},
   "source": [
    "### (Scenario - 3) A Single Simulatioin\n",
    " - An applied Parameterization: 1d Richard\n",
    " \n",
    " - Simulation Periods: 2002-07-01~2008-9-30 (75 months)"
   ]
  },
  {
   "cell_type": "markdown",
   "metadata": {},
   "source": [
    "### (Scenario - 4) Ensemble Simulations (3 simulations)\n",
    "\n",
    " - Applied Three Parameterization: 1d Richards, Lumped Topmodel, and Distributed Topmodel\n",
    "  \n",
    " - Simulation Periods: 2002-07-01~2008-9-30 (75 months)"
   ]
  },
  {
   "cell_type": "markdown",
   "metadata": {},
   "source": [
    "### 2.3.2 Quantitative Measurement: Computional Time"
   ]
  },
  {
   "cell_type": "markdown",
   "metadata": {},
   "source": [
    " **- Measurement: Wall time**\n",
    "  - (Wall time): The actual time spent in running the process from start to finish"
   ]
  },
  {
   "cell_type": "markdown",
   "metadata": {},
   "source": [
    "# 3. Software and Data Availability"
   ]
  },
  {
   "cell_type": "markdown",
   "metadata": {},
   "source": [
    "* Software\n",
    "  - SUMMA 3.0.3 (https://github.com/NCAR/summa/releases/tag/v3.0.3)\n",
    "  - pySUMMA 3.0.3 (https://github.com/UW-Hydro/pysumma/releases/tag/v3.0.3)\n",
    "  \n",
    "* Dataset in HydroShare\n",
    "  - (Model input) https://www.hydroshare.org/resource/eefc8724d589425a84ba206f55928735/"
   ]
  },
  {
   "cell_type": "markdown",
   "metadata": {},
   "source": [
    "# 4. Download SUMMA Model Instance from HydroShare"
   ]
  },
  {
   "cell_type": "markdown",
   "metadata": {},
   "source": [
    "* First, you need to check and set the Jupyter kernel as <font color='red'>\"Python 3\"</font> for this notebook. Then for downloading the SUMMA model instance, you have to fill in <font color='red'>HydroShare ID and P/W </font>at the cell below. If you don't have HydroShare account, you can sign up at HydroShare (https://www.hydroshare.org/)"
   ]
  },
  {
   "cell_type": "code",
   "execution_count": null,
   "metadata": {},
   "outputs": [],
   "source": [
    "from pysumma import hydroshare_utils\n",
    "import os\n",
    "resource_id = 'eefc8724d589425a84ba206f55928735'\n",
    "instance = hydroshare_utils.get_hs_resource(resource_id, os.getcwd())"
   ]
  },
  {
   "cell_type": "markdown",
   "metadata": {},
   "source": [
    "* Set user defined directory in filemanger file which control the location of every configuration files for SUMMA"
   ]
  },
  {
   "cell_type": "code",
   "execution_count": null,
   "metadata": {},
   "outputs": [],
   "source": [
    "!cd {instance}/; chmod +x ./installTestCases_local.sh\n",
    "!cd {instance}/; ./installTestCases_local.sh"
   ]
  },
  {
   "cell_type": "markdown",
   "metadata": {},
   "source": [
    "# 5. A Single SUMMA Run"
   ]
  },
  {
   "cell_type": "markdown",
   "metadata": {},
   "source": [
    "## 5.1 Configuration Setting"
   ]
  },
  {
   "cell_type": "markdown",
   "metadata": {},
   "source": [
    "### 5.1.1 Review a File Manager file"
   ]
  },
  {
   "cell_type": "code",
   "execution_count": null,
   "metadata": {},
   "outputs": [],
   "source": [
    "import pysumma as ps\n",
    "import os\n",
    "instance = \"SummaModel_Reynolds_Runoff\"\n",
    "executable = os.getcwd()+\"/summa/bin/summa.exe\"\n",
    "# path to the SUMMA filemanager file\n",
    "file_manager = os.path.join(os.getcwd(), instance, 'settings/summa_fileManager_1dRichards.txt')\n",
    "# create a pySUMMA simulation object using the SUMMA 'file manager' input file \n",
    "S_1dRichards = ps.Simulation(executable, file_manager)"
   ]
  },
  {
   "cell_type": "code",
   "execution_count": null,
   "metadata": {},
   "outputs": [],
   "source": [
    "# Print filamager\n",
    "print(S_1dRichards.manager)"
   ]
  },
  {
   "cell_type": "code",
   "execution_count": null,
   "metadata": {},
   "outputs": [],
   "source": [
    "# Print Decision files\n",
    "print(S_1dRichards.decisions)"
   ]
  },
  {
   "cell_type": "markdown",
   "metadata": {},
   "source": [
    "## 5.2 Check the Current Status of a Local Computer"
   ]
  },
  {
   "cell_type": "markdown",
   "metadata": {},
   "source": [
    "### 5.2.1 Check CPU inforamtion"
   ]
  },
  {
   "cell_type": "code",
   "execution_count": null,
   "metadata": {},
   "outputs": [],
   "source": [
    "!cat /proc/cpuinfo"
   ]
  },
  {
   "cell_type": "markdown",
   "metadata": {},
   "source": [
    "### 5.2.2 Check the number of CPUs"
   ]
  },
  {
   "cell_type": "code",
   "execution_count": null,
   "metadata": {},
   "outputs": [],
   "source": [
    "!nproc --all"
   ]
  },
  {
   "cell_type": "markdown",
   "metadata": {},
   "source": [
    "## 5.3 Performance Test"
   ]
  },
  {
   "cell_type": "markdown",
   "metadata": {},
   "source": [
    "### 5.3.1 Computional Time using Wall Time"
   ]
  },
  {
   "cell_type": "code",
   "execution_count": null,
   "metadata": {},
   "outputs": [],
   "source": [
    "%%time\n",
    "S_1dRichards.run('local', run_suffix='_single_time')\n",
    "results_1dRichards_ncfile = S_1dRichards.get_output_files()"
   ]
  },
  {
   "cell_type": "markdown",
   "metadata": {},
   "source": [
    "## 5.4 Visualization of a Single SUMMA output"
   ]
  },
  {
   "cell_type": "markdown",
   "metadata": {},
   "source": [
    "### 5.4.1 Plot Runoff from SUMMA Output and Observation"
   ]
  },
  {
   "cell_type": "code",
   "execution_count": null,
   "metadata": {},
   "outputs": [],
   "source": [
    "from pysumma.plotting.plotting import Plotting\n",
    "import matplotlib.pyplot as plt\n",
    "import pandas as pd\n",
    "import xarray as xr\n",
    "\n",
    "def calc_total_runoff(runoff_output_df):\n",
    "    # average Instance Runoff variable is runoff\n",
    "    runoff = runoff_output_df['averageInstantRunoff']\n",
    "    dates = runoff.coords['time'].data\n",
    "    # create data value(Y-axis) attribute from ouput netcdf\n",
    "    data_values = runoff.data*86400000\n",
    "    # create two dimensional tabular data structure \n",
    "    total_runoff_df = pd.DataFrame(data_values, index=dates)\n",
    "    # round time to nearest hour (ex. 2006-10-01T00:59:59.99 -> 2006-10-01T01:00:00)\n",
    "    total_runoff_df.index = total_runoff_df.index.round(\"D\")\n",
    "    # set the time period to display plot \n",
    "    total_runoff_df = total_runoff_df.loc[\"2002-10-01\":\"2008-09-30\"]\n",
    "    # resample data by the average value hourly\n",
    "    total_runoff_by_daily = total_runoff_df.resample(\"D\").mean()\n",
    "    return total_runoff_by_daily\n",
    "\n",
    "# get daily runoff output using distributed Topmodel method (distributed Topmodel method appied 1 hru)\n",
    "results_1dRichards = xr.open_dataset(results_1dRichards_ncfile[0])\n",
    "daily_1dRichards = calc_total_runoff(results_1dRichards)\n",
    "\n",
    "# Combine the different lateral flux parameterizations on simulations of runoff\n",
    "Runoff_Combine = pd.concat([daily_1dRichards], axis=1)\n",
    "# add label \n",
    "Runoff_Combine.columns = [\"Baseflow = 1D Richards'\"]\n",
    "\n",
    "# create pySUMMA Plotting Object\n",
    "Val_Streamflow = Plotting(os.getcwd() +'/' + instance + '/data/validationData/ReynoldsCreek_valData.nc')\n",
    "\n",
    "# read Runoff data(Q) from validation netcdf file\n",
    "obs_streamflow = Val_Streamflow.ds['Q']\n",
    "# create dates(X-axis) attribute from validation netcdf file\n",
    "dates = obs_streamflow.coords['time'].data\n",
    "# Change unit from cm/hr to mm/day\n",
    "data_values = obs_streamflow.data*24*10\n",
    "# create two dimensional tabular data structure \n",
    "df = pd.DataFrame(data_values, index=dates)\n",
    "# set the time period to display plot\n",
    "df_filt = df.loc[\"2002-10-01\":\"2008-09-30\"]\n",
    "# select label\n",
    "df_filt.columns = ['Observations']\n",
    "# resample data by the average daily from hourly \n",
    "obs_streamflow_daily = df_filt.resample(\"D\").mean()\n",
    "# set x index accoording to the change of time step\n",
    "obs_date = obs_streamflow_daily.index\n",
    "\n",
    "graph_runoff = pd.concat([Runoff_Combine, obs_streamflow_daily], 1)\n",
    "\n",
    "fig = plt.figure(figsize=(20,5))\n",
    "graph_runoff[\"Baseflow = 1D Richards'\"].plot(color='r') \n",
    "graph_runoff[\"Observations\"].plot.area(color='grey', label=\"Observations\") \n",
    "\n",
    "plt.tick_params(labelsize = 15)\n",
    "\n",
    "plt.xlabel(\"Time (day)\", fontsize=18)\n",
    "plt.ylabel(\"Runoff (mm/day)\", fontsize=18)\n",
    "plt.ylim(0,35)\n",
    "plt.legend(fontsize=20, loc=2)"
   ]
  },
  {
   "cell_type": "markdown",
   "metadata": {},
   "source": [
    "# 6. Ensemble SUMMA Runs"
   ]
  },
  {
   "cell_type": "markdown",
   "metadata": {},
   "source": [
    "## 6.1 Configuration Setting"
   ]
  },
  {
   "cell_type": "markdown",
   "metadata": {},
   "source": [
    "### 6.1.1 Set different lateral flow parameterizations"
   ]
  },
  {
   "cell_type": "code",
   "execution_count": null,
   "metadata": {},
   "outputs": [],
   "source": [
    "import pysumma as ps\n",
    "executable = os.getcwd()+\"/summa/bin/summa.exe\""
   ]
  },
  {
   "cell_type": "code",
   "execution_count": null,
   "metadata": {},
   "outputs": [],
   "source": [
    "config = {'++file_manager_1dRichards++': {'file_manager': '/home/jovyan/SummaModel_Reynolds_Runoff/settings/summa_fileManager_1dRichards.txt'},\n",
    "          '++file_manager_lumpedTopmodel++': {'file_manager': '/home/jovyan/SummaModel_Reynolds_Runoff/settings/summa_fileManager_lumpedTopmodel.txt'},\n",
    "          '++file_manager_distributedTopmodel++': {'file_manager': '/home/jovyan/SummaModel_Reynolds_Runoff/settings/summa_fileManager_distributedTopmodel.txt'}}"
   ]
  },
  {
   "cell_type": "code",
   "execution_count": null,
   "metadata": {},
   "outputs": [],
   "source": [
    "total_ens = ps.Ensemble(executable, config, num_workers=3)"
   ]
  },
  {
   "cell_type": "markdown",
   "metadata": {},
   "source": [
    "## 6.2 Performance Test"
   ]
  },
  {
   "cell_type": "markdown",
   "metadata": {},
   "source": [
    "### 6.2.1 Computional Time: Wall Time"
   ]
  },
  {
   "cell_type": "code",
   "execution_count": null,
   "metadata": {},
   "outputs": [],
   "source": [
    "%%time\n",
    "total_ens.run('local')"
   ]
  },
  {
   "cell_type": "markdown",
   "metadata": {},
   "source": [
    "## 6.3 Visualization of Ensemble SUMMA outputs"
   ]
  },
  {
   "cell_type": "markdown",
   "metadata": {},
   "source": [
    "### 6.3.1 Check the list of Ensemble SUMMA outputs"
   ]
  },
  {
   "cell_type": "code",
   "execution_count": null,
   "metadata": {},
   "outputs": [],
   "source": [
    "out_file_paths = [s.get_output_files() for s in total_ens.simulations.values()]\n",
    "out_file_paths"
   ]
  },
  {
   "cell_type": "markdown",
   "metadata": {},
   "source": [
    "## 4. Results"
   ]
  },
  {
   "cell_type": "markdown",
   "metadata": {},
   "source": [
    "### Recreate the Figure 9 plot from Clark et al., 2015: The Basin-Wide Runoff for the model representation of the lateral flux of liquid water"
   ]
  },
  {
   "cell_type": "code",
   "execution_count": null,
   "metadata": {},
   "outputs": [],
   "source": [
    "from pysumma.plotting.plotting import Plotting\n",
    "import matplotlib.pyplot as plt\n",
    "import pandas as pd\n",
    "import xarray as xr"
   ]
  },
  {
   "cell_type": "markdown",
   "metadata": {},
   "source": [
    "### 1) Create function to calculate daily runoff from SUMMA output for the period 1 oct 2002 to 1 oct 2008"
   ]
  },
  {
   "cell_type": "code",
   "execution_count": null,
   "metadata": {},
   "outputs": [],
   "source": [
    "def calc_total_runoff(runoff_output_df):\n",
    "    # average Instance Runoff variable is runoff\n",
    "    runoff = runoff_output_df['averageInstantRunoff']\n",
    "    dates = runoff.coords['time'].data\n",
    "    # create data value(Y-axis) attribute from ouput netcdf\n",
    "    data_values = runoff.data*86400000\n",
    "    # create two dimensional tabular data structure \n",
    "    total_runoff_df = pd.DataFrame(data_values, index=dates)\n",
    "    # round time to nearest hour (ex. 2006-10-01T00:59:59.99 -> 2006-10-01T01:00:00)\n",
    "    total_runoff_df.index = total_runoff_df.index.round(\"D\")\n",
    "    # set the time period to display plot \n",
    "    total_runoff_df = total_runoff_df.loc[\"2002-10-01\":\"2008-09-30\"]\n",
    "    # resample data by the average value hourly\n",
    "    total_runoff_by_daily = total_runoff_df.resample(\"D\").mean()\n",
    "    return total_runoff_by_daily"
   ]
  },
  {
   "cell_type": "markdown",
   "metadata": {},
   "source": [
    "### 2) Get daily runoff"
   ]
  },
  {
   "cell_type": "code",
   "execution_count": null,
   "metadata": {},
   "outputs": [],
   "source": [
    "# get daily runoff output using 1d Richards method(1d Richards method appied 1 hru)\n",
    "results_1dRichards = xr.open_dataset(out_file_paths[0][0])\n",
    "daily_1dRichards = calc_total_runoff(results_1dRichards)\n",
    "# get daily runoff output using lumped Topmodel method (lumped Topmodel method appied 1 hru)\n",
    "results_lumpedTopmodel = xr.open_dataset(out_file_paths[1][0])\n",
    "daily_lumpedTopmodel = calc_total_runoff(results_lumpedTopmodel)\n",
    "# get daily runoff output using distributed Topmodel method (distributed Topmodel method appied 1 hru)\n",
    "results_distributedTopmodel = xr.open_dataset(out_file_paths[2][0])\n",
    "daily_distributedTopmodel = calc_total_runoff(results_distributedTopmodel)"
   ]
  },
  {
   "cell_type": "markdown",
   "metadata": {},
   "source": [
    "### 3) Combine the different lateral flux parameterizations on simulations of runoff into a single Pandas Dataframe"
   ]
  },
  {
   "cell_type": "code",
   "execution_count": null,
   "metadata": {},
   "outputs": [],
   "source": [
    "# Combine the different lateral flux parameterizations on simulations of runoff\n",
    "Runoff_Combine = pd.concat([daily_1dRichards, daily_lumpedTopmodel, daily_distributedTopmodel], axis=1)\n",
    "# add label \n",
    "Runoff_Combine.columns = [\"Baseflow = 1D Richards'\", 'Baseflow = Topmodel(lumped)', 'Baseflow = Topmodel(distributed)']"
   ]
  },
  {
   "cell_type": "code",
   "execution_count": null,
   "metadata": {},
   "outputs": [],
   "source": [
    "Runoff_Combine.head()"
   ]
  },
  {
   "cell_type": "markdown",
   "metadata": {},
   "source": [
    "### 4) Add obervation data from streamflow station and Reynolds Mountain East to the plot"
   ]
  },
  {
   "cell_type": "code",
   "execution_count": null,
   "metadata": {},
   "outputs": [],
   "source": [
    "# create pySUMMA Plotting Object\n",
    "import os\n",
    "instance = \"SummaModel_Reynolds_Runoff\"\n",
    "Val_Streamflow = Plotting(os.getcwd() +'/' + instance + '/data/validationData/ReynoldsCreek_valData.nc')"
   ]
  },
  {
   "cell_type": "code",
   "execution_count": null,
   "metadata": {},
   "outputs": [],
   "source": [
    "# read Runoff data(Q) from validation netcdf file\n",
    "obs_streamflow = Val_Streamflow.ds['Q']\n",
    "# create dates(X-axis) attribute from validation netcdf file\n",
    "dates = obs_streamflow.coords['time'].data\n",
    "# Change unit from cm/hr to mm/day\n",
    "data_values = obs_streamflow.data*24*10\n",
    "# create two dimensional tabular data structure \n",
    "df = pd.DataFrame(data_values, index=dates)\n",
    "# set the time period to display plot\n",
    "df_filt = df.loc[\"2002-10-01\":\"2008-09-30\"]\n",
    "# select label\n",
    "df_filt.columns = ['Observations']\n",
    "# resample data by the average daily from hourly \n",
    "obs_streamflow_daily = df_filt.resample(\"D\").mean()\n",
    "# set x index accoording to the change of time step\n",
    "obs_date = obs_streamflow_daily.index"
   ]
  },
  {
   "cell_type": "markdown",
   "metadata": {},
   "source": [
    "### 5) Plotting output of the Parameterization of the Lateral Flux of Liquid Water and observation data"
   ]
  },
  {
   "cell_type": "code",
   "execution_count": null,
   "metadata": {},
   "outputs": [],
   "source": [
    "graph_runoff = pd.concat([Runoff_Combine, obs_streamflow_daily], 1)"
   ]
  },
  {
   "cell_type": "code",
   "execution_count": null,
   "metadata": {},
   "outputs": [],
   "source": [
    "graph_runoff.head()"
   ]
  },
  {
   "cell_type": "code",
   "execution_count": null,
   "metadata": {},
   "outputs": [],
   "source": [
    "fig = plt.figure(figsize=(20,5))\n",
    "graph_runoff[\"Baseflow = 1D Richards'\"].plot(color='r') \n",
    "graph_runoff[\"Observations\"].plot.area(color='grey', label=\"Observations\") \n",
    "\n",
    "plt.tick_params(labelsize = 15)\n",
    "\n",
    "plt.xlabel(\"Time (day)\", fontsize=18)\n",
    "plt.ylabel(\"Runoff (mm/day)\", fontsize=18)\n",
    "plt.ylim(0,35)\n",
    "plt.legend(fontsize=20, loc=2)"
   ]
  },
  {
   "cell_type": "code",
   "execution_count": null,
   "metadata": {},
   "outputs": [],
   "source": [
    "fig = plt.figure(figsize=(20,5))\n",
    "graph_runoff[\"Baseflow = Topmodel(distributed)\"].plot(color='r') \n",
    "graph_runoff[\"Observations\"].plot.area(color='grey', label=\"Observations\") \n",
    "\n",
    "plt.tick_params(labelsize = 15)\n",
    "\n",
    "plt.xlabel(\"Time (day)\", fontsize=18)\n",
    "plt.ylabel(\"Runoff (mm/day)\", fontsize=18)\n",
    "plt.ylim(0,35)\n",
    "plt.legend(fontsize=20, loc=2)"
   ]
  },
  {
   "cell_type": "code",
   "execution_count": null,
   "metadata": {},
   "outputs": [],
   "source": [
    "fig = plt.figure(figsize=(20,5))\n",
    "graph_runoff[\"Baseflow = Topmodel(lumped)\"].plot(color='r') \n",
    "graph_runoff[\"Observations\"].plot.area(color='grey', label=\"Observations\") \n",
    "\n",
    "plt.tick_params(labelsize = 15)\n",
    "\n",
    "plt.xlabel(\"Time (day)\", fontsize=18)\n",
    "plt.ylabel(\"Runoff (mm/day)\", fontsize=18)\n",
    "plt.ylim(0,35)\n",
    "plt.legend(fontsize=20, loc=2)"
   ]
  },
  {
   "cell_type": "code",
   "execution_count": null,
   "metadata": {},
   "outputs": [],
   "source": []
  }
 ],
 "metadata": {
  "kernelspec": {
   "display_name": "Python 3 (ipykernel)",
   "language": "python",
   "name": "python3"
  },
  "language_info": {
   "codemirror_mode": {
    "name": "ipython",
    "version": 3
   },
   "file_extension": ".py",
   "mimetype": "text/x-python",
   "name": "python",
   "nbconvert_exporter": "python",
   "pygments_lexer": "ipython3",
   "version": "3.8.12"
  }
 },
 "nbformat": 4,
 "nbformat_minor": 4
}
