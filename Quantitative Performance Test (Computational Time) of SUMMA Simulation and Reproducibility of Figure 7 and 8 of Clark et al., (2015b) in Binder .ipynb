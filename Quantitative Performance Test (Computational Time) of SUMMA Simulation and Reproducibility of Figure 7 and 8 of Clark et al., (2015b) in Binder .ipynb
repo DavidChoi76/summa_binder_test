{
 "cells": [
  {
   "cell_type": "markdown",
   "metadata": {},
   "source": [
    "## Quantitative Performance Test (Computational Time) of SUMMA Simulation and Reproducibility of Figure 7 and 8 of Clark et al., (2015b) in Binder\n",
    "\n",
    "#### Young-Don Choi<sup>a</sup>, Jonathan L. Goodall<sup>a</sup>, Jared Nguyen<sup>b</sup>, Raza Ahmad<sup>c</sup>, Tanu Malik<sup>c</sup>, Zhiyu Li<sup>d</sup>, Anthony M. Castronova<sup>e</sup>, Shaowen Wang<sup>d</sup>,  David G. Tarboton<sup>f</sup>\n",
    "\n",
    "<sup>a</sup>Department of Engineering Systems & Environment, University of Virginia, Charlottesville, VA, USA (yc5ef@virginia.edu, goodall@virginia.edu, jtn2km@virginia.edu)\n",
    "<sup>b</sup>Department of Computer Science, University of Virginia, Charlottesville, Virginia, USA\n",
    "<sup>c</sup>School of Computing, DePaul University, Chicago, IL, USA (raza.ahmad@depaul.edu, tmalik1@depaul.edu)\n",
    "<sup>d</sup>Department of Geography & Geographic Information Science, University of Illinois at Urbana-Champaign, IL, USA\n",
    "<sup>e</sup>Consortium of Universities for the Advancement of Hydrological Science, Inc, 150 Cambridge Park Drive, Cambridge, MA 02140, USA (acastronova@cuahsi.org)\n",
    "<sup>f</sup>Department of Civil and Environmental Engineering, Utah Water Research Laboratory, Utah State University, Logan, Utah, USA (dtarb@usu.edu)"
   ]
  },
  {
   "cell_type": "markdown",
   "metadata": {},
   "source": [
    "# 1. Introduction"
   ]
  },
  {
   "cell_type": "markdown",
   "metadata": {},
   "source": [
    "## 1.1 Research Abstract"
   ]
  },
  {
   "cell_type": "markdown",
   "metadata": {},
   "source": [
    "There are a growing number of approaches for overcoming the reproducibility crisis facing computational science fields. The objective of this research is to compare eleven of these approaches and suggest best practices and guidance for which approach is most appropriate to achieve modeling objectives, specifically for simulating hydrologic and environmental systems. We first present the eleven approaches that each use a different combination of software tools for achieving reproducibility. We then measure quantitative performance (complexity, size of reproducible artifacts, and computational time) and qualitative performance using the SUMMA hydrologic model as a use case study for testing each approach. Based on the results, we recommend reproducible approaches best suited for achieving different modeling objectives. These recommendations aim to guide modelers in their efforts to create and share computational artifacts in a reproducible manner, depending on their research needs and purposes."
   ]
  },
  {
   "cell_type": "markdown",
   "metadata": {},
   "source": [
    "## 1.2 MyBinder"
   ]
  },
  {
   "cell_type": "markdown",
   "metadata": {},
   "source": [
    "MyBinder is an online service for building and sharing reproducible and interactive computational environments from online repositories. Under the hood, it is a federation of BinderHub deployments that are maintained by the Binder community. It serves as both a public service and a demonstration of the BinderHub technology, though it is by no means the only BinderHub in existence. If you’re interested in deploying your own BinderHub for your own uses, please see the BinderHub documentation and don’t hesitate to reach out to the Binder community."
   ]
  },
  {
   "cell_type": "markdown",
   "metadata": {},
   "source": [
    "# 2. Application"
   ]
  },
  {
   "cell_type": "markdown",
   "metadata": {},
   "source": [
    "## 2.1 Study Area"
   ]
  },
  {
   "cell_type": "markdown",
   "metadata": {},
   "source": [
    "We used a case study of Clark et al. (2015b) which describes a set of modeling experiments exploring various hydrologic modeling scenarios using SUMMA. The study area for these modeling experiments is the Reynolds Mountain East Area (A=32.7km2) in the Reynolds Creek Experimental Watershed in Idaho, USA\n",
    "\n",
    "Here is the link of Clark et al. (2015b)(SUMMA 2nd Paper): https://agupubs.onlinelibrary.wiley.com/doi/full/10.1002/2015WR017200"
   ]
  },
  {
   "cell_type": "markdown",
   "metadata": {},
   "source": [
    "<img src=\"study_area.jpg\" width=\"1000\">"
   ]
  },
  {
   "cell_type": "markdown",
   "metadata": {},
   "source": [
    "Figure 1. Reynolds Mountain East Area in the Reynolds Creek Experimental Watershed"
   ]
  },
  {
   "cell_type": "markdown",
   "metadata": {},
   "source": [
    "## 2.2 Example Application: A Hydrologic Model Software (SUMMA:The Structure for Unifying Multiple Modeling Alternative) and Python model API (pySUMMA)"
   ]
  },
  {
   "cell_type": "markdown",
   "metadata": {},
   "source": [
    "The Structure for Unifying Multiple Modeling Alternative (SUMMA) was developed to enable the controlled and systematic evaluation of multiple model representations of hydrologic processes and scaling behavior (Clark et al., 2015a).  SUMMA has several beneficial capabilities that assist with a unifying framework. These include 1) the theoretical range of the SUMMA model, 2) the flexible hierarchical spatial structure, and 3) the application of different physical processes."
   ]
  },
  {
   "cell_type": "markdown",
   "metadata": {},
   "source": [
    "<img src=\"summa.png\" width=\"600\">"
   ]
  },
  {
   "cell_type": "markdown",
   "metadata": {},
   "source": [
    "Figure 2. Conceptual diagram to illustrate the SUMMA framework to describe the application of multiple process parameterizations with conservation equations and a numerical solver"
   ]
  },
  {
   "cell_type": "markdown",
   "metadata": {},
   "source": [
    "## 2.3 Setting of Simulation Scenarios and Performance Test"
   ]
  },
  {
   "cell_type": "markdown",
   "metadata": {},
   "source": [
    "### 2.3.1 SUMMA Simulation Scenarios for Performance Test"
   ]
  },
  {
   "cell_type": "markdown",
   "metadata": {},
   "source": [
    "One part of the Clark et al. (2015) study explored the impact of different stomatal resistance parameterizations and different Root Distribution Exponential parameters on total evapotranspiration (ET) (Figure 7 and 8) using a SUMMA model for the Reynolds Mountain East catchment. This study looked at three different stomatal resistance parameterizations: (1) the simple soil resistance method, (2) the Ball Berry method, and (3) the Jarvis method and three different Root Distribution Exponential parameters (1.0, 0.5, 0.25).\n",
    "\n",
    "In this notebook, we simulate Scenario 1 and 2 for performance test in Local Computer and reproduce Figure 7 and 8 from the cases studies. "
   ]
  },
  {
   "cell_type": "markdown",
   "metadata": {},
   "source": [
    "### (Scenario - 1) A Single Simulatioin\n",
    " - An applied Parameterization: Simple Resistance Method\n",
    " \n",
    " - Simulation Periods: 2006-07-01~2007-9-30 (15 months)"
   ]
  },
  {
   "cell_type": "markdown",
   "metadata": {},
   "source": [
    "### (Scenario - 2) Ensemble Simulations (9 simulations)\n",
    "\n",
    " - Applied Three different Parameterizations: Simple Resistance, Ball-Berry, and Jarvis Method\n",
    " \n",
    " - Applied Three different Parameters: Root Distribution Exponential parameters 1.0, 0.5, 0.25\n",
    " \n",
    " - Simulation Periods: 2006-07-01~2007-9-30 (15 months)"
   ]
  },
  {
   "cell_type": "markdown",
   "metadata": {},
   "source": [
    "### 2.3.2 Quantitative Measurement: Computional Time"
   ]
  },
  {
   "cell_type": "markdown",
   "metadata": {},
   "source": [
    " **- Measurement: Wall time**\n",
    "  - (Wall time): The actual time spent in running the process from start to finish"
   ]
  },
  {
   "cell_type": "markdown",
   "metadata": {},
   "source": [
    "# 3. Software and Data Availability"
   ]
  },
  {
   "cell_type": "markdown",
   "metadata": {},
   "source": [
    "* Software\n",
    "  - SUMMA 3.0.3 (https://github.com/NCAR/summa/releases/tag/v3.0.3)\n",
    "  - pySUMMA 3.0.3 (https://github.com/UW-Hydro/pysumma/releases/tag/v3.0.3)\n",
    "  \n",
    "* Dataset in HydroShare\n",
    "  - (Model input) https://www.hydroshare.org/resource/13d6b84a9553410297a67fa366a56cb2/"
   ]
  },
  {
   "cell_type": "markdown",
   "metadata": {},
   "source": [
    "# 4. Download SUMMA Model Instance from HydroShare"
   ]
  },
  {
   "cell_type": "markdown",
   "metadata": {},
   "source": [
    "* First, you need to check and set the Jupyter kernel as <font color='red'>\"Python 3\"</font> for this notebook. Then for downloading the SUMMA model instance, you have to fill in <font color='red'>HydroShare ID and P/W </font>at the cell below. If you don't have HydroShare account, you can sign up at HydroShare (https://www.hydroshare.org/)"
   ]
  },
  {
   "cell_type": "code",
   "execution_count": null,
   "metadata": {},
   "outputs": [],
   "source": [
    "from pysumma import hydroshare_utils\n",
    "import os\n",
    "resource_id = '13d6b84a9553410297a67fa366a56cb2'\n",
    "instance = hydroshare_utils.get_hs_resource(resource_id, os.getcwd())"
   ]
  },
  {
   "cell_type": "markdown",
   "metadata": {},
   "source": [
    "* Set user defined directory in filemanger file which control the location of every configuration files for SUMMA"
   ]
  },
  {
   "cell_type": "code",
   "execution_count": null,
   "metadata": {},
   "outputs": [],
   "source": [
    "!cd {instance}/; chmod +x ./installTestCases_local.sh\n",
    "!cd {instance}/; ./installTestCases_local.sh"
   ]
  },
  {
   "cell_type": "markdown",
   "metadata": {},
   "source": [
    "# 5. A Single SUMMA Run"
   ]
  },
  {
   "cell_type": "markdown",
   "metadata": {},
   "source": [
    "## 5.1 Configuration Setting"
   ]
  },
  {
   "cell_type": "markdown",
   "metadata": {},
   "source": [
    "### 5.1.1 Review a File Manager file"
   ]
  },
  {
   "cell_type": "code",
   "execution_count": null,
   "metadata": {},
   "outputs": [],
   "source": [
    "import pysumma as ps\n",
    "import os\n",
    "instance = \"SummaModel_ReynoldsAspenStand_StomatalResistance\"\n",
    "executable = os.getcwd()+\"/summa/bin/summa.exe\"\n",
    "# path to the SUMMA filemanager file\n",
    "file_manager = os.path.join(os.getcwd(), instance, 'settings/summa_fileManager_riparianAspenSimpleResistance.txt')\n",
    "# Create pySUMMA Simulation Object\n",
    "S = ps.Simulation(executable, file_manager)\n",
    "# set the simulation start and finish times\n",
    "S.manager['simStartTime'].value  = \"2006-07-01 00:00\"\n",
    "S.manager['simEndTime'].value = \"2007-09-30 00:00\"\n",
    "# Save configiuration to disk\n",
    "S.manager.write()\n",
    "# Print filamager\n",
    "print(S.manager)"
   ]
  },
  {
   "cell_type": "markdown",
   "metadata": {},
   "source": [
    "### 5.1.2 Review a Decisions file"
   ]
  },
  {
   "cell_type": "code",
   "execution_count": null,
   "metadata": {},
   "outputs": [],
   "source": [
    "# query for the available stomatal resistance parameterizations\n",
    "S.decisions[\"stomResist\"].available_options\n",
    "# set simple soil resistance method\n",
    "S.decisions['stomResist'] = 'simpleResistance'\n",
    "# Save configiuration to disk\n",
    "S.manager.write()\n",
    "print(S.decisions)"
   ]
  },
  {
   "cell_type": "markdown",
   "metadata": {},
   "source": [
    "## 5.2 Check the Current Status of a Local Computer"
   ]
  },
  {
   "cell_type": "markdown",
   "metadata": {},
   "source": [
    "### 5.2.1 Check CPU inforamtion"
   ]
  },
  {
   "cell_type": "code",
   "execution_count": null,
   "metadata": {},
   "outputs": [],
   "source": [
    "!cat /proc/cpuinfo"
   ]
  },
  {
   "cell_type": "markdown",
   "metadata": {},
   "source": [
    "### 5.2.2 Check the number of CPUs"
   ]
  },
  {
   "cell_type": "code",
   "execution_count": null,
   "metadata": {},
   "outputs": [],
   "source": [
    "!nproc --all"
   ]
  },
  {
   "cell_type": "markdown",
   "metadata": {},
   "source": [
    "## 5.3 Performance Test"
   ]
  },
  {
   "cell_type": "markdown",
   "metadata": {},
   "source": [
    "### 5.3.1 Computional Time using Wall Time"
   ]
  },
  {
   "cell_type": "code",
   "execution_count": null,
   "metadata": {},
   "outputs": [],
   "source": [
    "%%time\n",
    "S.run('local', run_suffix='_single_time')\n",
    "results_simpleResistance_ncfile = S.get_output_files()"
   ]
  },
  {
   "cell_type": "markdown",
   "metadata": {},
   "source": [
    "## 5.4 Visualization of a Single SUMMA output"
   ]
  },
  {
   "cell_type": "markdown",
   "metadata": {
    "jupyter": {
     "outputs_hidden": true
    }
   },
   "source": [
    "### 5.4.1 Calculate Total ET  for Each Hour of Day from SUMMA Output and Observation"
   ]
  },
  {
   "cell_type": "code",
   "execution_count": null,
   "metadata": {},
   "outputs": [],
   "source": [
    "import matplotlib.pyplot as plt\n",
    "import pandas as pd\n",
    "import xarray as xr\n",
    "\n",
    "# Create Method to Calculate Total ET for Each Hour of Day from SUMMA Output\n",
    "def calc_total_et(et_output_df):\n",
    "    total_et_data = (et_output_df['scalarLatHeatTotal'])*3600/2260000\n",
    "    # create dates(X-axis) attribute from ouput netcdf\n",
    "    dates = total_et_data.coords['time'].data\n",
    "    # create data value(Y-axis) attribute from ouput netcdf\n",
    "    data_values = total_et_data.data\n",
    "    # create two dimensional tabular data structure \n",
    "    total_et_df = pd.DataFrame(data_values, index=dates)\n",
    "    # round time to nearest hour (ex. 2006-10-01T00:59:59.99 -> 2006-10-01T01:00:00)\n",
    "    total_et_df.index = total_et_df.index.round(\"H\")\n",
    "    # set the time period to display plot \n",
    "    total_et_df = total_et_df.loc[\"2007-05-31 23:00:00\":\"2007-08-20 23:00:00\"]\n",
    "    # resample data by the average value hourly\n",
    "    total_et_df_hourly = total_et_df.resample(\"H\").mean()\n",
    "    # resample data by the average for hour of day\n",
    "    total_et_by_hour = total_et_df_hourly.groupby(total_et_df_hourly.index.hour).mean()\n",
    "    total_et_by_hour.index.name = 'hour'\n",
    "    total_et_by_hour.columns = ['ET']\n",
    "    # calculate 3 hour moving average\n",
    "    total_et_by_hour.loc['24'] = total_et_by_hour.loc[0].values\n",
    "    for index in range(1,23,1):\n",
    "        total_et_by_hour['ET'][index] = (total_et_by_hour['ET'][index-1]+total_et_by_hour['ET'][index]+total_et_by_hour['ET'][index+1])/3\n",
    "    return total_et_by_hour\n",
    "\n",
    "# Get Each Hour of Day Output of the Three Stomatal Resistance Methods for the Period 1 June to 20 August 2007\n",
    "\n",
    "results_simpleResistance = xr.open_dataset(results_simpleResistance_ncfile[0])\n",
    "simResis_hour = calc_total_et(results_simpleResistance)\n",
    "\n",
    "# Combine the Stomatal Resistance Parameterizations into a Single Pandas Dataframe\n",
    "# Combine each stomatal resistance parameterizations\n",
    "#ET_Combine = pd.concat([simResis_hour], axis=1)\n",
    "# add label \n",
    "simResis_hour.columns = ['Simple resistance']\n",
    "\n",
    "# Add Obervation Data from Aspen station in Reynolds Mountain East\n",
    "file_manager.split('/settings')[0]+'/testCases_data/validationData/ReynoldsCreek_eddyFlux.nc'\n",
    "# create pySUMMA Plotting Object\n",
    "Val_eddyFlux = xr.open_dataset(file_manager.split('/settings')[0]+'/data/validationData/ReynoldsCreek_eddyFlux.nc')\n",
    "# read Total Evapotranspiration(LE-wpl) AND Wind(WindFlag) from validation netcdf file\n",
    "Obs_Evapotranspitaton = Val_eddyFlux['LE-wpl']\n",
    "Obs_Wind = Val_eddyFlux['WindFlag']\n",
    "# create dates(X-axis) attribute from validation netcdf file\n",
    "dates = Obs_Evapotranspitaton.coords['time'].data\n",
    "# create obs_data(Y-axis) attribute from validation netcdf file\n",
    "obs_evap = Obs_Evapotranspitaton.data\n",
    "obs_wind = Obs_Wind.data\n",
    "# create two dimensional tabular data structure \n",
    "df_evap = pd.DataFrame(obs_evap, index=dates)\n",
    "df_wind = pd.DataFrame(obs_wind, index=dates)\n",
    "# set the time period to display plot\n",
    "df_evap_filt = df_evap.loc[\"2007-05-31 23:00:00\":\"2007-08-20 22:30:00\"]\n",
    "df_wind_filt = df_wind.loc[\"2007-05-31 23:00:00\":\"2007-08-20 22:30:00\"]   #\"2007-06-01\":\"2007-08-20\"\n",
    "# select aspen obervation station among three different stations\n",
    "df_evap_filt.columns = ['-','Obs_evap (aspen)','-']\n",
    "df_wind_filt.columns = ['-','Obs_wind (aspen)','-']\n",
    "# Combine total evapotranspiration and wind data\n",
    "obs_output = pd.concat([df_evap_filt['Obs_evap (aspen)'], df_wind_filt['Obs_wind (aspen)']], axis=1)\n",
    "# add hour column\n",
    "obs_output['hour'] = obs_output.index.hour\n",
    "# drop NaN and select row of wind = 0\n",
    "obs_output1 = obs_output.dropna()\n",
    "hourly_obs = obs_output1.loc[obs_output1['Obs_wind (aspen)'] == 0]\n",
    "# select obs data that has both 30min and 1hour data\n",
    "df = pd.DataFrame(hourly_obs['hour'].values, index=hourly_obs.index, columns=[\"hour1\"])\n",
    "count = 0\n",
    "for index, value in df.iterrows():\n",
    "    if df.loc[:, ['hour1']].iloc[count].values == df.loc[:, ['hour1']].iloc[count+1].values:\n",
    "        if count >= len(df)-3:\n",
    "            break\n",
    "        count = count + 2\n",
    "        pass\n",
    "    else:\n",
    "        df.iloc[count] = 100\n",
    "        count = count + 1        \n",
    "        \n",
    "# select and delete row of wind = 100\n",
    "delete_row = hourly_obs[hourly_obs.iloc[:,2]==100].index\n",
    "hourly_obs = hourly_obs.drop(delete_row)\n",
    "evap_hourly = hourly_obs.loc[:, ['Obs_evap (aspen)']]\n",
    "evap_hourly[\"Observations\"] = evap_hourly['Obs_evap (aspen)'].values\n",
    "# select evapotranspiration data at aspen station\n",
    "evap_hourly = hourly_obs.loc[:, ['Obs_evap (aspen)']]\n",
    "evap_hourly[\"Observations\"] = evap_hourly['Obs_evap (aspen)'].values\n",
    "# resample data by the average for hour of day\n",
    "df_gp_hr = evap_hourly.groupby([evap_hourly.index.hour, evap_hourly.index.minute]).mean()\n",
    "# Change unit from kgm-2s-1 to mm/hr \n",
    "df_gp_hr = df_gp_hr/2260000*3600\n",
    "# reset index so each row has an hour an minute column\n",
    "df_gp_hr.reset_index(inplace=True)\n",
    "# add hour and minute columns for plotting\n",
    "xvals = df_gp_hr.reset_index()['level_0'] + df_gp_hr.reset_index()['level_1']/60."
   ]
  },
  {
   "cell_type": "markdown",
   "metadata": {},
   "source": [
    "### 5.4.2 Reproduce Simple Resistance method of the Figure 7 from Clark et al. (2015b)"
   ]
  },
  {
   "cell_type": "code",
   "execution_count": null,
   "metadata": {},
   "outputs": [],
   "source": [
    "# create plot with three different stomatal resistance parameterizations\n",
    "simResis_hour_Graph = simResis_hour.plot(color=['orange'],linewidth=4.0,figsize=(12,10))\n",
    "# invert y axis\n",
    "simResis_hour_Graph.invert_yaxis()\n",
    "# plot scatter with x='xvals', y='Observation (aspen)'\n",
    "simResis_hour_Graph.scatter(xvals, df_gp_hr['Observations'], color='black', s=200, label=\"Observations\")\n",
    "# add x, y label\n",
    "plt.xlabel('Time of day (hr)', fontsize=25)\n",
    "plt.ylabel('Total evapotranspiration (mm/h)', fontsize=25)\n",
    "# show up the legend\n",
    "simResis_hour_Graph.legend(fontsize=18, loc=2)\n",
    "plt.xlim(0,24)\n",
    "plt.ylim(0,-0.6)\n",
    "x = [0,3,6,9,12,15,18,21,24]\n",
    "plt.xticks(x, x, fontsize=25)\n",
    "plt.yticks(fontsize=25)\n",
    "plt.savefig(\"reproduced_evapotranspiration_nb1.png\")"
   ]
  },
  {
   "cell_type": "markdown",
   "metadata": {},
   "source": [
    "# 6. Ensemble SUMMA Runs"
   ]
  },
  {
   "cell_type": "markdown",
   "metadata": {},
   "source": [
    "## 6.1 Configuration Setting"
   ]
  },
  {
   "cell_type": "markdown",
   "metadata": {},
   "source": [
    "### 6.1.1 Set different stomatal resistance parameterizations and different rootDistExp parameter values"
   ]
  },
  {
   "cell_type": "code",
   "execution_count": null,
   "metadata": {},
   "outputs": [],
   "source": [
    "import pysumma as ps\n",
    "import os\n",
    "instance = \"SummaModel_ReynoldsAspenStand_StomatalResistance\"\n",
    "executable = os.getcwd()+\"/summa/bin/summa.exe\"\n",
    "# path to the SUMMA filemanager file\n",
    "file_manager = os.path.join(os.getcwd(), instance, 'settings/summa_fileManager_riparianAspenSimpleResistance.txt')\n",
    "# Create pySUMMA Simulation Object\n",
    "S = ps.Simulation(executable, file_manager)"
   ]
  },
  {
   "cell_type": "code",
   "execution_count": null,
   "metadata": {},
   "outputs": [],
   "source": [
    "# different parameterizations\n",
    "decision_options = {\"stomResist\": [\"BallBerry\", \"Jarvis\", \"simpleResistance\"]}"
   ]
  },
  {
   "cell_type": "code",
   "execution_count": null,
   "metadata": {},
   "outputs": [],
   "source": [
    "# different parameters\n",
    "import numpy as np\n",
    "param_trial_options = {'rootDistExp': np.array([1.0, 0.5, 0.25])}\n",
    "param_trial_options"
   ]
  },
  {
   "cell_type": "code",
   "execution_count": null,
   "metadata": {},
   "outputs": [],
   "source": [
    "total_config = ps.ensemble.total_product(dec_conf=decision_options, param_trial_conf=param_trial_options)\n",
    "total_config"
   ]
  },
  {
   "cell_type": "code",
   "execution_count": null,
   "metadata": {},
   "outputs": [],
   "source": [
    "total_ens = ps.Ensemble(executable, total_config, file_manager, num_workers=5)\n",
    "total_ens"
   ]
  },
  {
   "cell_type": "markdown",
   "metadata": {},
   "source": [
    "## 6.2 Performance Test"
   ]
  },
  {
   "cell_type": "markdown",
   "metadata": {},
   "source": [
    "### 6.2.1 Computional Time: Wall Time"
   ]
  },
  {
   "cell_type": "code",
   "execution_count": null,
   "metadata": {
    "scrolled": true
   },
   "outputs": [],
   "source": [
    "%%time\n",
    "total_ens.run('local')"
   ]
  },
  {
   "cell_type": "markdown",
   "metadata": {},
   "source": [
    "## 6.3 Visualization of Ensemble SUMMA outputs"
   ]
  },
  {
   "cell_type": "markdown",
   "metadata": {},
   "source": [
    "### 6.3.1 Check the list of Ensemble SUMMA outputs"
   ]
  },
  {
   "cell_type": "code",
   "execution_count": null,
   "metadata": {},
   "outputs": [],
   "source": [
    "out_file_paths = [s.get_output_files() for s in total_ens.simulations.values()]\n",
    "out_file_paths"
   ]
  },
  {
   "cell_type": "code",
   "execution_count": null,
   "metadata": {},
   "outputs": [],
   "source": [
    "# check the status of ensemble simualtion\n",
    "total_ens.summary()"
   ]
  },
  {
   "cell_type": "markdown",
   "metadata": {
    "jupyter": {
     "outputs_hidden": true
    }
   },
   "source": [
    "### 6.3.2 Calculate Total ET for Each Hour of Day from SUMMA Outputs and Observation"
   ]
  },
  {
   "cell_type": "code",
   "execution_count": null,
   "metadata": {},
   "outputs": [],
   "source": [
    "import matplotlib.pyplot as plt\n",
    "import pandas as pd\n",
    "import xarray as xr\n",
    "\n",
    "# Create Method to Calculate Total ET for Each Hour of Day from SUMMA Output\n",
    "def calc_total_et(et_output_df):\n",
    "    total_et_data = (et_output_df['scalarLatHeatTotal'])*3600/2260000\n",
    "    # create dates(X-axis) attribute from ouput netcdf\n",
    "    dates = total_et_data.coords['time'].data\n",
    "    # create data value(Y-axis) attribute from ouput netcdf\n",
    "    data_values = total_et_data.data\n",
    "    # create two dimensional tabular data structure \n",
    "    total_et_df = pd.DataFrame(data_values, index=dates)\n",
    "    # round time to nearest hour (ex. 2006-10-01T00:59:59.99 -> 2006-10-01T01:00:00)\n",
    "    total_et_df.index = total_et_df.index.round(\"H\")\n",
    "    # set the time period to display plot \n",
    "    total_et_df = total_et_df.loc[\"2007-05-31 23:00:00\":\"2007-08-20 23:00:00\"]\n",
    "    # resample data by the average value hourly\n",
    "    total_et_df_hourly = total_et_df.resample(\"H\").mean()\n",
    "    # resample data by the average for hour of day\n",
    "    total_et_by_hour = total_et_df_hourly.groupby(total_et_df_hourly.index.hour).mean()\n",
    "    total_et_by_hour.index.name = 'hour'\n",
    "    total_et_by_hour.columns = ['ET']\n",
    "    # calculate 3 hour moving average\n",
    "    total_et_by_hour.loc['24'] = total_et_by_hour.loc[0].values\n",
    "    for index in range(1,23,1):\n",
    "        total_et_by_hour['ET'][index] = (total_et_by_hour['ET'][index-1]+total_et_by_hour['ET'][index]+total_et_by_hour['ET'][index+1])/3\n",
    "    return total_et_by_hour\n",
    "\n",
    "# Add Obervation Data from Aspen station in Reynolds Mountain East\n",
    "file_manager.split('/settings')[0]+'/testCases_data/validationData/ReynoldsCreek_eddyFlux.nc'\n",
    "# create pySUMMA Plotting Object\n",
    "Val_eddyFlux = xr.open_dataset(file_manager.split('/settings')[0]+'/data/validationData/ReynoldsCreek_eddyFlux.nc')\n",
    "# read Total Evapotranspiration(LE-wpl) AND Wind(WindFlag) from validation netcdf file\n",
    "Obs_Evapotranspitaton = Val_eddyFlux['LE-wpl']\n",
    "Obs_Wind = Val_eddyFlux['WindFlag']\n",
    "# create dates(X-axis) attribute from validation netcdf file\n",
    "dates = Obs_Evapotranspitaton.coords['time'].data\n",
    "# create obs_data(Y-axis) attribute from validation netcdf file\n",
    "obs_evap = Obs_Evapotranspitaton.data\n",
    "obs_wind = Obs_Wind.data\n",
    "# create two dimensional tabular data structure \n",
    "df_evap = pd.DataFrame(obs_evap, index=dates)\n",
    "df_wind = pd.DataFrame(obs_wind, index=dates)\n",
    "# set the time period to display plot\n",
    "df_evap_filt = df_evap.loc[\"2007-05-31 23:00:00\":\"2007-08-20 22:30:00\"]\n",
    "df_wind_filt = df_wind.loc[\"2007-05-31 23:00:00\":\"2007-08-20 22:30:00\"]   #\"2007-06-01\":\"2007-08-20\"\n",
    "# select aspen obervation station among three different stations\n",
    "df_evap_filt.columns = ['-','Obs_evap (aspen)','-']\n",
    "df_wind_filt.columns = ['-','Obs_wind (aspen)','-']\n",
    "# Combine total evapotranspiration and wind data\n",
    "obs_output = pd.concat([df_evap_filt['Obs_evap (aspen)'], df_wind_filt['Obs_wind (aspen)']], axis=1)\n",
    "# add hour column\n",
    "obs_output['hour'] = obs_output.index.hour\n",
    "# drop NaN and select row of wind = 0\n",
    "obs_output1 = obs_output.dropna()\n",
    "hourly_obs = obs_output1.loc[obs_output1['Obs_wind (aspen)'] == 0]\n",
    "# select obs data that has both 30min and 1hour data\n",
    "df = pd.DataFrame(hourly_obs['hour'].values, index=hourly_obs.index, columns=[\"hour1\"])\n",
    "count = 0\n",
    "for index, value in df.iterrows():\n",
    "    if df.loc[:, ['hour1']].iloc[count].values == df.loc[:, ['hour1']].iloc[count+1].values:\n",
    "        if count >= len(df)-3:\n",
    "            break\n",
    "        count = count + 2\n",
    "        pass\n",
    "    else:\n",
    "        df.iloc[count] = 100\n",
    "        count = count + 1        \n",
    "        \n",
    "# select and delete row of wind = 100\n",
    "delete_row = hourly_obs[hourly_obs.iloc[:,2]==100].index\n",
    "hourly_obs = hourly_obs.drop(delete_row)\n",
    "evap_hourly = hourly_obs.loc[:, ['Obs_evap (aspen)']]\n",
    "evap_hourly[\"Observations\"] = evap_hourly['Obs_evap (aspen)'].values\n",
    "# select evapotranspiration data at aspen station\n",
    "evap_hourly = hourly_obs.loc[:, ['Obs_evap (aspen)']]\n",
    "evap_hourly[\"Observations\"] = evap_hourly['Obs_evap (aspen)'].values\n",
    "# resample data by the average for hour of day\n",
    "df_gp_hr = evap_hourly.groupby([evap_hourly.index.hour, evap_hourly.index.minute]).mean()\n",
    "# Change unit from kgm-2s-1 to mm/hr \n",
    "df_gp_hr = df_gp_hr/2260000*3600\n",
    "# reset index so each row has an hour an minute column\n",
    "df_gp_hr.reset_index(inplace=True)\n",
    "# add hour and minute columns for plotting\n",
    "xvals = df_gp_hr.reset_index()['level_0'] + df_gp_hr.reset_index()['level_1']/60."
   ]
  },
  {
   "cell_type": "markdown",
   "metadata": {},
   "source": [
    "### 6.3.3 Reproduce the Figure 7 and 8 from Clark et al. (2015b)"
   ]
  },
  {
   "cell_type": "markdown",
   "metadata": {},
   "source": [
    "* Set Combination of Different parameterizations and parameters for visualization"
   ]
  },
  {
   "cell_type": "code",
   "execution_count": null,
   "metadata": {},
   "outputs": [],
   "source": [
    "# 1 Plot\n",
    "BallBerry_rootDisExp_1_0 = xr.open_dataset(out_file_paths[0][0])\n",
    "BallBerry_rootDisExp_0_5 = xr.open_dataset(out_file_paths[1][0])\n",
    "BallBerry_rootDisExp_0_25 = xr.open_dataset(out_file_paths[2][0])\n",
    "BallBerry_rootDisExp_1_0_hour = calc_total_et(BallBerry_rootDisExp_1_0)\n",
    "BallBerry_rootDisExp_0_5_hour = calc_total_et(BallBerry_rootDisExp_0_5)\n",
    "BallBerry_rootDisExp_0_25_hour = calc_total_et(BallBerry_rootDisExp_0_25)\n",
    "# 2 Plot\n",
    "Jarvis_rootDisExp_1_0 = xr.open_dataset(out_file_paths[3][0])\n",
    "Jarvis_rootDisExp_0_5 = xr.open_dataset(out_file_paths[4][0])\n",
    "Jarvis_rootDisExp_0_25 = xr.open_dataset(out_file_paths[5][0])\n",
    "Jarvis_rootDisExp_1_0_hour = calc_total_et(Jarvis_rootDisExp_1_0)\n",
    "Jarvis_rootDisExp_0_5_hour = calc_total_et(Jarvis_rootDisExp_0_5)\n",
    "Jarvis_rootDisExp_0_25_hour = calc_total_et(Jarvis_rootDisExp_0_25)\n",
    "\n",
    "# 3 Plot\n",
    "simpleResistance_rootDisExp_1_0 = xr.open_dataset(out_file_paths[6][0])\n",
    "simpleResistance_rootDisExp_0_5 = xr.open_dataset(out_file_paths[7][0])\n",
    "simpleResistance_rootDisExp_0_25 = xr.open_dataset(out_file_paths[8][0])\n",
    "simpleResistance_rootDisExp_1_0_hour = calc_total_et(simpleResistance_rootDisExp_1_0)\n",
    "simpleResistance_rootDisExp_0_5_hour = calc_total_et(simpleResistance_rootDisExp_0_5)\n",
    "simpleResistance_rootDisExp_0_25_hour = calc_total_et(simpleResistance_rootDisExp_0_25)\n",
    "\n",
    "# 4 Plot\n",
    "rootDisExp_1_0_BallBerry = xr.open_dataset(out_file_paths[0][0])\n",
    "rootDisExp_1_0_Jarvis = xr.open_dataset(out_file_paths[3][0])\n",
    "rootDisExp_1_0_simpleResistance = xr.open_dataset(out_file_paths[6][0])\n",
    "rootDisExp_1_0_BallBerry_hour = calc_total_et(rootDisExp_1_0_BallBerry)\n",
    "rootDisExp_1_0_Jarvis_hour = calc_total_et(rootDisExp_1_0_Jarvis)\n",
    "rootDisExp_1_0_simpleResistance_hour = calc_total_et(rootDisExp_1_0_simpleResistance)\n",
    "\n",
    "# 5 Plot\n",
    "rootDisExp_0_5_BallBerry = xr.open_dataset(out_file_paths[1][0])\n",
    "rootDisExp_0_5_Jarvis = xr.open_dataset(out_file_paths[4][0])\n",
    "rootDisExp_0_5_simpleResistance = xr.open_dataset(out_file_paths[7][0])\n",
    "rootDisExp_0_5_BallBerry_hour = calc_total_et(rootDisExp_0_5_BallBerry)\n",
    "rootDisExp_0_5_Jarvis_hour = calc_total_et(rootDisExp_0_5_Jarvis)\n",
    "rootDisExp_0_5_simpleResistance_hour = calc_total_et(rootDisExp_0_5_simpleResistance)\n",
    "\n",
    "# 6 Plot\n",
    "rootDisExp_0_25_BallBerry = xr.open_dataset(out_file_paths[2][0])\n",
    "rootDisExp_0_25_Jarvis = xr.open_dataset(out_file_paths[5][0])\n",
    "rootDisExp_0_25_simpleResistance = xr.open_dataset(out_file_paths[8][0])\n",
    "rootDisExp_0_25_BallBerry_hour = calc_total_et(rootDisExp_0_25_BallBerry)\n",
    "rootDisExp_0_25_Jarvis_hour = calc_total_et(rootDisExp_0_25_Jarvis)\n",
    "rootDisExp_0_25_simpleResistance_hour = calc_total_et(rootDisExp_0_25_simpleResistance)"
   ]
  },
  {
   "cell_type": "markdown",
   "metadata": {},
   "source": [
    "* Visualization"
   ]
  },
  {
   "cell_type": "code",
   "execution_count": null,
   "metadata": {},
   "outputs": [],
   "source": [
    "fig = plt.figure(figsize=(12,20))\n",
    "ax1 = fig.add_subplot(321)\n",
    "ax1.set_title(\"Reproducibility of Figure8 from Clark et al.(2015b)\", fontsize=12, color='red')\n",
    "ax1.plot(BallBerry_rootDisExp_1_0_hour.index, BallBerry_rootDisExp_1_0_hour['ET'], label='BallBerry (Root Exp = 1.0)', color='blue', linewidth=4.0)\n",
    "ax1.plot(BallBerry_rootDisExp_0_5_hour.index, BallBerry_rootDisExp_0_5_hour['ET'], label='BallBerry (Root Exp = 0.5)', color='green', linewidth=4.0)\n",
    "ax1.plot(BallBerry_rootDisExp_0_25_hour.index, BallBerry_rootDisExp_0_25_hour['ET'], label='BallBerry (Root Exp = 0.25)', color='orange', linewidth=4.0)\n",
    "\n",
    "ax2 = fig.add_subplot(322)\n",
    "ax2.plot(Jarvis_rootDisExp_1_0_hour.index, Jarvis_rootDisExp_1_0_hour['ET'], label='Jarvis (Root Exp = 1.0)', color='blue', linewidth=4.0)\n",
    "ax2.plot(Jarvis_rootDisExp_0_5_hour.index, Jarvis_rootDisExp_0_5_hour['ET'], label='Jarvis (Root Exp = 0.5)', color='green', linewidth=4.0)\n",
    "ax2.plot(Jarvis_rootDisExp_0_25_hour.index, Jarvis_rootDisExp_0_25_hour['ET'], label='Jarvis (Root Exp = 0.25)', color='orange', linewidth=4.0)\n",
    "\n",
    "ax3 = fig.add_subplot(323)\n",
    "ax3.plot(simpleResistance_rootDisExp_1_0_hour.index, simpleResistance_rootDisExp_1_0_hour['ET'], label='simpleResistance (Root Exp = 1.0)', color='blue', linewidth=4.0)\n",
    "ax3.plot(simpleResistance_rootDisExp_0_5_hour.index, simpleResistance_rootDisExp_0_5_hour['ET'], label='simpleResistance (Root Exp = 0.5)', color='green', linewidth=4.0)\n",
    "ax3.plot(simpleResistance_rootDisExp_0_25_hour.index, simpleResistance_rootDisExp_0_25_hour['ET'], label='simpleResistance (Root Exp = 0.25)', color='orange', linewidth=4.0)\n",
    "\n",
    "ax4 = fig.add_subplot(324)\n",
    "ax4.set_title(\"Reproducibility of Figure7 from Clark et al.(2015b)\", fontsize=12, color='red')\n",
    "ax4.plot(rootDisExp_1_0_BallBerry_hour.index, rootDisExp_1_0_BallBerry_hour['ET'], label='Root Exp = 1.0 (BallBerry)', color='blue', linewidth=4.0)\n",
    "ax4.plot(rootDisExp_1_0_Jarvis_hour.index, rootDisExp_1_0_Jarvis_hour['ET'], label='Root Exp = 1.0 (Jarvis)', color='green', linewidth=4.0)\n",
    "ax4.plot(rootDisExp_1_0_simpleResistance_hour.index, rootDisExp_1_0_simpleResistance_hour['ET'], label='Root Exp = 1.0 (simpleResistance)', color='orange', linewidth=4.0)\n",
    "\n",
    "ax5 = fig.add_subplot(325)\n",
    "ax5.plot(rootDisExp_0_5_BallBerry_hour.index, rootDisExp_0_5_BallBerry_hour['ET'], label='Root Exp = 0.5 (BallBerry)', color='blue', linewidth=4.0)\n",
    "ax5.plot(rootDisExp_0_5_Jarvis_hour.index, rootDisExp_0_5_Jarvis_hour['ET'], label='Root Exp = 0.5 (Jarvis)', color='green', linewidth=4.0)\n",
    "ax5.plot(rootDisExp_0_5_simpleResistance_hour.index, rootDisExp_0_5_simpleResistance_hour['ET'], label='Root Exp = 0.5 (simpleResistance)', color='orange', linewidth=4.0)\n",
    "\n",
    "ax6 = fig.add_subplot(326)\n",
    "ax6.plot(rootDisExp_0_25_BallBerry_hour.index, rootDisExp_0_25_BallBerry_hour['ET'], label='Root Exp = 0.25 (BallBerry)', color='blue', linewidth=4.0)\n",
    "ax6.plot(rootDisExp_0_25_Jarvis_hour.index, rootDisExp_0_25_Jarvis_hour['ET'], label='Root Exp = 0.25 (Jarvis)', color='green', linewidth=4.0)\n",
    "ax6.plot(rootDisExp_0_25_simpleResistance_hour.index, rootDisExp_0_25_simpleResistance_hour['ET'], label='Root Exp = 0.25 (simpleResistance)', color='orange', linewidth=4.0)\n",
    "\n",
    "axes = [ax1, ax2, ax3, ax4, ax5, ax6]\n",
    "for ax in axes:\n",
    "    # invert y axis\n",
    "    ax.invert_yaxis()\n",
    "    # plot scatter with x='xvals', y='Observation (aspen)'\n",
    "    ax.scatter(xvals, df_gp_hr['Observations'], color='black', s=100, label=\"Observations\")\n",
    "    # add x, y label\n",
    "    ax.set_xlabel('Time of day (hr)', fontsize=15)\n",
    "    ax.set_ylabel('Total evapotranspiration (mm/h)', fontsize=15)\n",
    "    # show up the legend\n",
    "    ax.legend(fontsize=11, loc=2)\n",
    "    ax.set_xlim([0,24])\n",
    "    ax.set_ylim([0,-0.6])"
   ]
  },
  {
   "cell_type": "code",
   "execution_count": null,
   "metadata": {},
   "outputs": [],
   "source": []
  }
 ],
 "metadata": {
  "kernelspec": {
   "display_name": "Python 3 (ipykernel)",
   "language": "python",
   "name": "python3"
  },
  "language_info": {
   "codemirror_mode": {
    "name": "ipython",
    "version": 3
   },
   "file_extension": ".py",
   "mimetype": "text/x-python",
   "name": "python",
   "nbconvert_exporter": "python",
   "pygments_lexer": "ipython3",
   "version": "3.8.12"
  }
 },
 "nbformat": 4,
 "nbformat_minor": 4
}
